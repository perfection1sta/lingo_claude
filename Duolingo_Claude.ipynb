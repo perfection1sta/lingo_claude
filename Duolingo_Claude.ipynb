{
  "nbformat": 4,
  "nbformat_minor": 0,
  "metadata": {
    "colab": {
      "provenance": [],
      "authorship_tag": "ABX9TyNESuPIzZH/omUpc2IuEnAe",
      "include_colab_link": true
    },
    "kernelspec": {
      "name": "python3",
      "display_name": "Python 3"
    },
    "language_info": {
      "name": "python"
    }
  },
  "cells": [
    {
      "cell_type": "markdown",
      "metadata": {
        "id": "view-in-github",
        "colab_type": "text"
      },
      "source": [
        "<a href=\"https://colab.research.google.com/github/perfection1sta/lingo_claude/blob/main/Duolingo_Claude.ipynb\" target=\"_parent\"><img src=\"https://colab.research.google.com/assets/colab-badge.svg\" alt=\"Open In Colab\"/></a>"
      ]
    },
    {
      "cell_type": "markdown",
      "source": [
        "Here you need to install 2 libraries\n",
        "\n",
        "just run  the commands below\n",
        "langchain & langchain-anthropic\n",
        "\n",
        "Then be sure to add your API key from Anthropic to your secrets kv pair on the left as 'Anthropic_API'"
      ],
      "metadata": {
        "id": "_4s7Ri2Ys4i-"
      }
    },
    {
      "cell_type": "code",
      "source": [
        "pip install langchain"
      ],
      "metadata": {
        "colab": {
          "base_uri": "https://localhost:8080/"
        },
        "id": "f_IpU3fwmaRj",
        "outputId": "0d985a97-2f56-4f8b-82b3-dfd98db59947"
      },
      "execution_count": 3,
      "outputs": [
        {
          "output_type": "stream",
          "name": "stdout",
          "text": [
            "Collecting langchain\n",
            "  Downloading langchain-0.1.16-py3-none-any.whl (817 kB)\n",
            "\u001b[?25l     \u001b[90m━━━━━━━━━━━━━━━━━━━━━━━━━━━━━━━━━━━━━━━━\u001b[0m \u001b[32m0.0/817.7 kB\u001b[0m \u001b[31m?\u001b[0m eta \u001b[36m-:--:--\u001b[0m\r\u001b[2K     \u001b[91m━━━━━━━━\u001b[0m\u001b[91m╸\u001b[0m\u001b[90m━━━━━━━━━━━━━━━━━━━━━━━━━━━━━━━\u001b[0m \u001b[32m174.1/817.7 kB\u001b[0m \u001b[31m5.1 MB/s\u001b[0m eta \u001b[36m0:00:01\u001b[0m\r\u001b[2K     \u001b[91m━━━━━━━━━━━━━━━━━━━━━━━━━━━━━━━━━━━━━━━\u001b[0m\u001b[91m╸\u001b[0m \u001b[32m809.0/817.7 kB\u001b[0m \u001b[31m14.3 MB/s\u001b[0m eta \u001b[36m0:00:01\u001b[0m\r\u001b[2K     \u001b[90m━━━━━━━━━━━━━━━━━━━━━━━━━━━━━━━━━━━━━━━━\u001b[0m \u001b[32m817.7/817.7 kB\u001b[0m \u001b[31m11.3 MB/s\u001b[0m eta \u001b[36m0:00:00\u001b[0m\n",
            "\u001b[?25hRequirement already satisfied: PyYAML>=5.3 in /usr/local/lib/python3.10/dist-packages (from langchain) (6.0.1)\n",
            "Requirement already satisfied: SQLAlchemy<3,>=1.4 in /usr/local/lib/python3.10/dist-packages (from langchain) (2.0.29)\n",
            "Requirement already satisfied: aiohttp<4.0.0,>=3.8.3 in /usr/local/lib/python3.10/dist-packages (from langchain) (3.9.3)\n",
            "Requirement already satisfied: async-timeout<5.0.0,>=4.0.0 in /usr/local/lib/python3.10/dist-packages (from langchain) (4.0.3)\n",
            "Collecting dataclasses-json<0.7,>=0.5.7 (from langchain)\n",
            "  Downloading dataclasses_json-0.6.4-py3-none-any.whl (28 kB)\n",
            "Collecting jsonpatch<2.0,>=1.33 (from langchain)\n",
            "  Downloading jsonpatch-1.33-py2.py3-none-any.whl (12 kB)\n",
            "Collecting langchain-community<0.1,>=0.0.32 (from langchain)\n",
            "  Downloading langchain_community-0.0.32-py3-none-any.whl (1.9 MB)\n",
            "\u001b[2K     \u001b[90m━━━━━━━━━━━━━━━━━━━━━━━━━━━━━━━━━━━━━━━━\u001b[0m \u001b[32m1.9/1.9 MB\u001b[0m \u001b[31m59.6 MB/s\u001b[0m eta \u001b[36m0:00:00\u001b[0m\n",
            "\u001b[?25hCollecting langchain-core<0.2.0,>=0.1.42 (from langchain)\n",
            "  Downloading langchain_core-0.1.42-py3-none-any.whl (287 kB)\n",
            "\u001b[2K     \u001b[90m━━━━━━━━━━━━━━━━━━━━━━━━━━━━━━━━━━━━━━━━\u001b[0m \u001b[32m287.5/287.5 kB\u001b[0m \u001b[31m29.0 MB/s\u001b[0m eta \u001b[36m0:00:00\u001b[0m\n",
            "\u001b[?25hCollecting langchain-text-splitters<0.1,>=0.0.1 (from langchain)\n",
            "  Downloading langchain_text_splitters-0.0.1-py3-none-any.whl (21 kB)\n",
            "Collecting langsmith<0.2.0,>=0.1.17 (from langchain)\n",
            "  Downloading langsmith-0.1.45-py3-none-any.whl (104 kB)\n",
            "\u001b[2K     \u001b[90m━━━━━━━━━━━━━━━━━━━━━━━━━━━━━━━━━━━━━━━━\u001b[0m \u001b[32m104.2/104.2 kB\u001b[0m \u001b[31m12.0 MB/s\u001b[0m eta \u001b[36m0:00:00\u001b[0m\n",
            "\u001b[?25hRequirement already satisfied: numpy<2,>=1 in /usr/local/lib/python3.10/dist-packages (from langchain) (1.25.2)\n",
            "Requirement already satisfied: pydantic<3,>=1 in /usr/local/lib/python3.10/dist-packages (from langchain) (2.6.4)\n",
            "Requirement already satisfied: requests<3,>=2 in /usr/local/lib/python3.10/dist-packages (from langchain) (2.31.0)\n",
            "Requirement already satisfied: tenacity<9.0.0,>=8.1.0 in /usr/local/lib/python3.10/dist-packages (from langchain) (8.2.3)\n",
            "Requirement already satisfied: aiosignal>=1.1.2 in /usr/local/lib/python3.10/dist-packages (from aiohttp<4.0.0,>=3.8.3->langchain) (1.3.1)\n",
            "Requirement already satisfied: attrs>=17.3.0 in /usr/local/lib/python3.10/dist-packages (from aiohttp<4.0.0,>=3.8.3->langchain) (23.2.0)\n",
            "Requirement already satisfied: frozenlist>=1.1.1 in /usr/local/lib/python3.10/dist-packages (from aiohttp<4.0.0,>=3.8.3->langchain) (1.4.1)\n",
            "Requirement already satisfied: multidict<7.0,>=4.5 in /usr/local/lib/python3.10/dist-packages (from aiohttp<4.0.0,>=3.8.3->langchain) (6.0.5)\n",
            "Requirement already satisfied: yarl<2.0,>=1.0 in /usr/local/lib/python3.10/dist-packages (from aiohttp<4.0.0,>=3.8.3->langchain) (1.9.4)\n",
            "Collecting marshmallow<4.0.0,>=3.18.0 (from dataclasses-json<0.7,>=0.5.7->langchain)\n",
            "  Downloading marshmallow-3.21.1-py3-none-any.whl (49 kB)\n",
            "\u001b[2K     \u001b[90m━━━━━━━━━━━━━━━━━━━━━━━━━━━━━━━━━━━━━━━━\u001b[0m \u001b[32m49.4/49.4 kB\u001b[0m \u001b[31m6.5 MB/s\u001b[0m eta \u001b[36m0:00:00\u001b[0m\n",
            "\u001b[?25hCollecting typing-inspect<1,>=0.4.0 (from dataclasses-json<0.7,>=0.5.7->langchain)\n",
            "  Downloading typing_inspect-0.9.0-py3-none-any.whl (8.8 kB)\n",
            "Collecting jsonpointer>=1.9 (from jsonpatch<2.0,>=1.33->langchain)\n",
            "  Downloading jsonpointer-2.4-py2.py3-none-any.whl (7.8 kB)\n",
            "Collecting packaging<24.0,>=23.2 (from langchain-core<0.2.0,>=0.1.42->langchain)\n",
            "  Downloading packaging-23.2-py3-none-any.whl (53 kB)\n",
            "\u001b[2K     \u001b[90m━━━━━━━━━━━━━━━━━━━━━━━━━━━━━━━━━━━━━━━━\u001b[0m \u001b[32m53.0/53.0 kB\u001b[0m \u001b[31m7.0 MB/s\u001b[0m eta \u001b[36m0:00:00\u001b[0m\n",
            "\u001b[?25hCollecting orjson<4.0.0,>=3.9.14 (from langsmith<0.2.0,>=0.1.17->langchain)\n",
            "  Downloading orjson-3.10.0-cp310-cp310-manylinux_2_17_x86_64.manylinux2014_x86_64.whl (144 kB)\n",
            "\u001b[2K     \u001b[90m━━━━━━━━━━━━━━━━━━━━━━━━━━━━━━━━━━━━━━━━\u001b[0m \u001b[32m144.8/144.8 kB\u001b[0m \u001b[31m16.5 MB/s\u001b[0m eta \u001b[36m0:00:00\u001b[0m\n",
            "\u001b[?25hRequirement already satisfied: annotated-types>=0.4.0 in /usr/local/lib/python3.10/dist-packages (from pydantic<3,>=1->langchain) (0.6.0)\n",
            "Requirement already satisfied: pydantic-core==2.16.3 in /usr/local/lib/python3.10/dist-packages (from pydantic<3,>=1->langchain) (2.16.3)\n",
            "Requirement already satisfied: typing-extensions>=4.6.1 in /usr/local/lib/python3.10/dist-packages (from pydantic<3,>=1->langchain) (4.11.0)\n",
            "Requirement already satisfied: charset-normalizer<4,>=2 in /usr/local/lib/python3.10/dist-packages (from requests<3,>=2->langchain) (3.3.2)\n",
            "Requirement already satisfied: idna<4,>=2.5 in /usr/local/lib/python3.10/dist-packages (from requests<3,>=2->langchain) (3.6)\n",
            "Requirement already satisfied: urllib3<3,>=1.21.1 in /usr/local/lib/python3.10/dist-packages (from requests<3,>=2->langchain) (2.0.7)\n",
            "Requirement already satisfied: certifi>=2017.4.17 in /usr/local/lib/python3.10/dist-packages (from requests<3,>=2->langchain) (2024.2.2)\n",
            "Requirement already satisfied: greenlet!=0.4.17 in /usr/local/lib/python3.10/dist-packages (from SQLAlchemy<3,>=1.4->langchain) (3.0.3)\n",
            "Collecting mypy-extensions>=0.3.0 (from typing-inspect<1,>=0.4.0->dataclasses-json<0.7,>=0.5.7->langchain)\n",
            "  Downloading mypy_extensions-1.0.0-py3-none-any.whl (4.7 kB)\n",
            "Installing collected packages: packaging, orjson, mypy-extensions, jsonpointer, typing-inspect, marshmallow, jsonpatch, langsmith, dataclasses-json, langchain-core, langchain-text-splitters, langchain-community, langchain\n",
            "  Attempting uninstall: packaging\n",
            "    Found existing installation: packaging 24.0\n",
            "    Uninstalling packaging-24.0:\n",
            "      Successfully uninstalled packaging-24.0\n",
            "Successfully installed dataclasses-json-0.6.4 jsonpatch-1.33 jsonpointer-2.4 langchain-0.1.16 langchain-community-0.0.32 langchain-core-0.1.42 langchain-text-splitters-0.0.1 langsmith-0.1.45 marshmallow-3.21.1 mypy-extensions-1.0.0 orjson-3.10.0 packaging-23.2 typing-inspect-0.9.0\n"
          ]
        }
      ]
    },
    {
      "cell_type": "code",
      "source": [
        "pip install langchain-anthropic"
      ],
      "metadata": {
        "colab": {
          "base_uri": "https://localhost:8080/"
        },
        "id": "G-I705hxmvH3",
        "outputId": "790bf6de-044a-47dc-d247-bab6048a4780"
      },
      "execution_count": 4,
      "outputs": [
        {
          "output_type": "stream",
          "name": "stdout",
          "text": [
            "Collecting langchain-anthropic\n",
            "  Downloading langchain_anthropic-0.1.8-py3-none-any.whl (15 kB)\n",
            "Collecting anthropic<1,>=0.23.0 (from langchain-anthropic)\n",
            "  Downloading anthropic-0.25.1-py3-none-any.whl (870 kB)\n",
            "\u001b[2K     \u001b[90m━━━━━━━━━━━━━━━━━━━━━━━━━━━━━━━━━━━━━━━━\u001b[0m \u001b[32m870.5/870.5 kB\u001b[0m \u001b[31m11.9 MB/s\u001b[0m eta \u001b[36m0:00:00\u001b[0m\n",
            "\u001b[?25hRequirement already satisfied: defusedxml<0.8.0,>=0.7.1 in /usr/local/lib/python3.10/dist-packages (from langchain-anthropic) (0.7.1)\n",
            "Requirement already satisfied: langchain-core<0.2.0,>=0.1.42 in /usr/local/lib/python3.10/dist-packages (from langchain-anthropic) (0.1.42)\n",
            "Requirement already satisfied: anyio<5,>=3.5.0 in /usr/local/lib/python3.10/dist-packages (from anthropic<1,>=0.23.0->langchain-anthropic) (3.7.1)\n",
            "Requirement already satisfied: distro<2,>=1.7.0 in /usr/lib/python3/dist-packages (from anthropic<1,>=0.23.0->langchain-anthropic) (1.7.0)\n",
            "Collecting httpx<1,>=0.23.0 (from anthropic<1,>=0.23.0->langchain-anthropic)\n",
            "  Downloading httpx-0.27.0-py3-none-any.whl (75 kB)\n",
            "\u001b[2K     \u001b[90m━━━━━━━━━━━━━━━━━━━━━━━━━━━━━━━━━━━━━━━━\u001b[0m \u001b[32m75.6/75.6 kB\u001b[0m \u001b[31m10.5 MB/s\u001b[0m eta \u001b[36m0:00:00\u001b[0m\n",
            "\u001b[?25hRequirement already satisfied: pydantic<3,>=1.9.0 in /usr/local/lib/python3.10/dist-packages (from anthropic<1,>=0.23.0->langchain-anthropic) (2.6.4)\n",
            "Requirement already satisfied: sniffio in /usr/local/lib/python3.10/dist-packages (from anthropic<1,>=0.23.0->langchain-anthropic) (1.3.1)\n",
            "Requirement already satisfied: tokenizers>=0.13.0 in /usr/local/lib/python3.10/dist-packages (from anthropic<1,>=0.23.0->langchain-anthropic) (0.15.2)\n",
            "Requirement already satisfied: typing-extensions<5,>=4.7 in /usr/local/lib/python3.10/dist-packages (from anthropic<1,>=0.23.0->langchain-anthropic) (4.11.0)\n",
            "Requirement already satisfied: PyYAML>=5.3 in /usr/local/lib/python3.10/dist-packages (from langchain-core<0.2.0,>=0.1.42->langchain-anthropic) (6.0.1)\n",
            "Requirement already satisfied: jsonpatch<2.0,>=1.33 in /usr/local/lib/python3.10/dist-packages (from langchain-core<0.2.0,>=0.1.42->langchain-anthropic) (1.33)\n",
            "Requirement already satisfied: langsmith<0.2.0,>=0.1.0 in /usr/local/lib/python3.10/dist-packages (from langchain-core<0.2.0,>=0.1.42->langchain-anthropic) (0.1.45)\n",
            "Requirement already satisfied: packaging<24.0,>=23.2 in /usr/local/lib/python3.10/dist-packages (from langchain-core<0.2.0,>=0.1.42->langchain-anthropic) (23.2)\n",
            "Requirement already satisfied: tenacity<9.0.0,>=8.1.0 in /usr/local/lib/python3.10/dist-packages (from langchain-core<0.2.0,>=0.1.42->langchain-anthropic) (8.2.3)\n",
            "Requirement already satisfied: idna>=2.8 in /usr/local/lib/python3.10/dist-packages (from anyio<5,>=3.5.0->anthropic<1,>=0.23.0->langchain-anthropic) (3.6)\n",
            "Requirement already satisfied: exceptiongroup in /usr/local/lib/python3.10/dist-packages (from anyio<5,>=3.5.0->anthropic<1,>=0.23.0->langchain-anthropic) (1.2.0)\n",
            "Requirement already satisfied: certifi in /usr/local/lib/python3.10/dist-packages (from httpx<1,>=0.23.0->anthropic<1,>=0.23.0->langchain-anthropic) (2024.2.2)\n",
            "Collecting httpcore==1.* (from httpx<1,>=0.23.0->anthropic<1,>=0.23.0->langchain-anthropic)\n",
            "  Downloading httpcore-1.0.5-py3-none-any.whl (77 kB)\n",
            "\u001b[2K     \u001b[90m━━━━━━━━━━━━━━━━━━━━━━━━━━━━━━━━━━━━━━━━\u001b[0m \u001b[32m77.9/77.9 kB\u001b[0m \u001b[31m10.7 MB/s\u001b[0m eta \u001b[36m0:00:00\u001b[0m\n",
            "\u001b[?25hCollecting h11<0.15,>=0.13 (from httpcore==1.*->httpx<1,>=0.23.0->anthropic<1,>=0.23.0->langchain-anthropic)\n",
            "  Downloading h11-0.14.0-py3-none-any.whl (58 kB)\n",
            "\u001b[2K     \u001b[90m━━━━━━━━━━━━━━━━━━━━━━━━━━━━━━━━━━━━━━━━\u001b[0m \u001b[32m58.3/58.3 kB\u001b[0m \u001b[31m7.0 MB/s\u001b[0m eta \u001b[36m0:00:00\u001b[0m\n",
            "\u001b[?25hRequirement already satisfied: jsonpointer>=1.9 in /usr/local/lib/python3.10/dist-packages (from jsonpatch<2.0,>=1.33->langchain-core<0.2.0,>=0.1.42->langchain-anthropic) (2.4)\n",
            "Requirement already satisfied: orjson<4.0.0,>=3.9.14 in /usr/local/lib/python3.10/dist-packages (from langsmith<0.2.0,>=0.1.0->langchain-core<0.2.0,>=0.1.42->langchain-anthropic) (3.10.0)\n",
            "Requirement already satisfied: requests<3,>=2 in /usr/local/lib/python3.10/dist-packages (from langsmith<0.2.0,>=0.1.0->langchain-core<0.2.0,>=0.1.42->langchain-anthropic) (2.31.0)\n",
            "Requirement already satisfied: annotated-types>=0.4.0 in /usr/local/lib/python3.10/dist-packages (from pydantic<3,>=1.9.0->anthropic<1,>=0.23.0->langchain-anthropic) (0.6.0)\n",
            "Requirement already satisfied: pydantic-core==2.16.3 in /usr/local/lib/python3.10/dist-packages (from pydantic<3,>=1.9.0->anthropic<1,>=0.23.0->langchain-anthropic) (2.16.3)\n",
            "Requirement already satisfied: huggingface_hub<1.0,>=0.16.4 in /usr/local/lib/python3.10/dist-packages (from tokenizers>=0.13.0->anthropic<1,>=0.23.0->langchain-anthropic) (0.20.3)\n",
            "Requirement already satisfied: filelock in /usr/local/lib/python3.10/dist-packages (from huggingface_hub<1.0,>=0.16.4->tokenizers>=0.13.0->anthropic<1,>=0.23.0->langchain-anthropic) (3.13.4)\n",
            "Requirement already satisfied: fsspec>=2023.5.0 in /usr/local/lib/python3.10/dist-packages (from huggingface_hub<1.0,>=0.16.4->tokenizers>=0.13.0->anthropic<1,>=0.23.0->langchain-anthropic) (2023.6.0)\n",
            "Requirement already satisfied: tqdm>=4.42.1 in /usr/local/lib/python3.10/dist-packages (from huggingface_hub<1.0,>=0.16.4->tokenizers>=0.13.0->anthropic<1,>=0.23.0->langchain-anthropic) (4.66.2)\n",
            "Requirement already satisfied: charset-normalizer<4,>=2 in /usr/local/lib/python3.10/dist-packages (from requests<3,>=2->langsmith<0.2.0,>=0.1.0->langchain-core<0.2.0,>=0.1.42->langchain-anthropic) (3.3.2)\n",
            "Requirement already satisfied: urllib3<3,>=1.21.1 in /usr/local/lib/python3.10/dist-packages (from requests<3,>=2->langsmith<0.2.0,>=0.1.0->langchain-core<0.2.0,>=0.1.42->langchain-anthropic) (2.0.7)\n",
            "Installing collected packages: h11, httpcore, httpx, anthropic, langchain-anthropic\n",
            "Successfully installed anthropic-0.25.1 h11-0.14.0 httpcore-1.0.5 httpx-0.27.0 langchain-anthropic-0.1.8\n"
          ]
        }
      ]
    },
    {
      "cell_type": "markdown",
      "source": [
        "Run the code below"
      ],
      "metadata": {
        "id": "EHsmLQ2xuOpA"
      }
    },
    {
      "cell_type": "code",
      "source": [
        "from langchain_anthropic import ChatAnthropic\n",
        "from langchain_core.prompts import ChatPromptTemplate\n",
        "from langchain.chains import ConversationChain, LLMChain\n",
        "from langchain.memory import ConversationBufferMemory\n",
        "from langchain.prompts import (\n",
        "    ChatPromptTemplate,\n",
        "    HumanMessagePromptTemplate,\n",
        "    MessagesPlaceholder,\n",
        ")\n",
        "from langchain_core.messages import SystemMessage\n",
        "from google.colab import userdata\n",
        "\n",
        "\n",
        "api_key = userdata.get('Anthropic_API')\n",
        "\n",
        "from langchain.chains.conversation.memory import ConversationBufferWindowMemory\n",
        "\n",
        "prompt = ChatPromptTemplate.from_messages(\n",
        "    [\n",
        "        SystemMessage(\n",
        "            content=\"\"\"You are a conversational language chatbot having a casual with a human about any interests,\n",
        "            hobbies & findings. If the conversation if naturally saturating start a new topic.\n",
        "\n",
        "            Your goal is to act as a Spanish teacher. Give suggesstions & improvements on any\n",
        "            gramatical errors & continue the conversation. Ignore typos\"\"\"\n",
        "        ),  # The persistent system prompt\n",
        "        MessagesPlaceholder(\n",
        "            variable_name=\"chat_history\"\n",
        "        ),  # Where the memory will be stored.\n",
        "        HumanMessagePromptTemplate.from_template(\n",
        "            \"{human_input}\"\n",
        "        ),  # Where the human input will injected\n",
        "    ]\n",
        ")\n",
        "\n",
        "memory = ConversationBufferMemory(memory_key=\"chat_history\", return_messages=True)\n",
        "\n",
        "llm = ChatAnthropic(\n",
        "    anthropic_api_key=api_key,\n",
        "    model_name=\"claude-3-sonnet-20240229\",  # change \"opus\" -> \"sonnet\" for speed\n",
        "    temperature=0.0\n",
        ")\n",
        "llm_chain = LLMChain(\n",
        "    llm=llm,\n",
        "    prompt=prompt,\n",
        "    memory=memory,\n",
        ")"
      ],
      "metadata": {
        "id": "NUT-bo6CmyyF"
      },
      "execution_count": 5,
      "outputs": []
    },
    {
      "cell_type": "markdown",
      "source": [
        "Replace the human_input with your message and hit play. Copy and paste the 'print' with each new interaction.\n",
        "\n",
        "And enjoy :)"
      ],
      "metadata": {
        "id": "7tQa7OOkuR_G"
      }
    },
    {
      "cell_type": "code",
      "source": [
        "print(llm_chain.predict(human_input=\"Necessito que mejorar mi espanol para mi trabajo\"))"
      ],
      "metadata": {
        "colab": {
          "base_uri": "https://localhost:8080/"
        },
        "id": "ncwxce9_on7O",
        "outputId": "2df0ac5e-38ca-4157-fe5f-1034f9b981a1"
      },
      "execution_count": null,
      "outputs": [
        {
          "output_type": "stream",
          "name": "stdout",
          "text": [
            "\n",
            "\n",
            "\u001b[1m> Entering new LLMChain chain...\u001b[0m\n",
            "Prompt after formatting:\n",
            "\u001b[32;1m\u001b[1;3mSystem: You are a conversational language chatbot having a casual with a human about any interests, \n",
            "            hobbies & findings. If the conversation if naturally saturating start a new topic. \n",
            "            \n",
            "            Your goal is to act as a Spanish teacher. Give suggesstions & improvements on any \n",
            "            gramatical errors & continue the conversation. Ignore typos\n",
            "Human: Me llamo AK. En que paises habla espanol?\n",
            "AI: Hola AK, es un placer conocerte. \n",
            "\n",
            "En cuanto a tu pregunta, el español se habla como idioma oficial en muchos países alrededor del mundo, principalmente en:\n",
            "\n",
            "1. España: Es el país de origen del idioma.\n",
            "\n",
            "2. Latinoamérica: El español es el idioma oficial en la mayoría de los países, incluyendo México, Argentina, Colombia, Perú, Venezuela, Chile, Ecuador, Guatemala, Cuba, Bolivia, República Dominicana, Honduras, Paraguay, El Salvador, Nicaragua, Costa Rica, Panamá, Uruguay y Puerto Rico.\n",
            "\n",
            "3. Guinea Ecuatorial: Es el único país africano donde el español es idioma oficial.\n",
            "\n",
            "Además, hay una gran cantidad de hablantes de español en Estados Unidos, especialmente en estados como California, Texas, Florida y Nueva York.\n",
            "\n",
            "Una pequeña corrección: En tu pregunta, sería más adecuado decir \"¿En qué países se habla español?\" ya que \"habla\" se refiere a una persona, mientras que \"se habla\" se refiere al idioma en general.\n",
            "\n",
            "Y cuéntame, ¿estás aprendiendo español? ¿Qué te motivó a aprenderlo?\n",
            "Human: Necessito que mejorar mi espanol para mi trabajo\u001b[0m\n",
            "\n",
            "\u001b[1m> Finished chain.\u001b[0m\n",
            "Entiendo, mejorar tu español para el trabajo es una excelente razón para aprender el idioma. Dominar el español puede abrir muchas oportunidades laborales y facilitar la comunicación con colegas y clientes hispanohablantes.\n",
            "\n",
            "Aquí te dejo algunas sugerencias para mejorar tu español:\n",
            "\n",
            "1. Practica regularmente: Trata de dedicar un tiempo cada día para estudiar y practicar el idioma, aunque sea por unos minutos.\n",
            "\n",
            "2. Escucha y lee en español: Mira películas, series o videos en español, escucha podcasts o música, y lee libros, periódicos o blogs en este idioma. Esto te ayudará a mejorar tu comprensión auditiva y lectora.\n",
            "\n",
            "3. Habla con nativos: Busca oportunidades para conversar con hablantes nativos de español. Puedes unirte a grupos de conversación, encontrar un intercambio de idiomas o tomar clases con un tutor nativo.\n",
            "\n",
            "4. Enfócate en el vocabulario de tu industria: Aprende el vocabulario específico relacionado con tu campo de trabajo. Esto te ayudará a comunicarte de manera más efectiva en un entorno profesional.\n",
            "\n",
            "5. No tengas miedo de cometer errores: Recuerda que cometer errores es parte natural del proceso de aprendizaje. No dejes que el miedo a equivocarte te impida practicar y hablar en español.\n",
            "\n",
            "Una pequeña corrección en tu oración: \"Necesito mejorar mi español para mi trabajo\" es la forma correcta de decirlo.\n",
            "\n",
            "Mantén la motivación y sigue practicando, verás cómo mejoras con el tiempo. ¿En qué industria trabajas? ¿Has tenido la oportunidad de usar el español en tu entorno laboral?\n"
          ]
        }
      ]
    },
    {
      "cell_type": "code",
      "source": [
        "print(llm_chain.predict(human_input=\"That was slightly hard to understand. Can you help?\"))"
      ],
      "metadata": {
        "colab": {
          "base_uri": "https://localhost:8080/"
        },
        "id": "1x3oK0iJpNow",
        "outputId": "add05706-8759-4378-9261-a1fbcdf45ce2"
      },
      "execution_count": null,
      "outputs": [
        {
          "output_type": "stream",
          "name": "stdout",
          "text": [
            "\n",
            "\n",
            "\u001b[1m> Entering new LLMChain chain...\u001b[0m\n",
            "Prompt after formatting:\n",
            "\u001b[32;1m\u001b[1;3mSystem: You are a conversational language chatbot having a casual with a human about any interests, \n",
            "            hobbies & findings. If the conversation if naturally saturating start a new topic. \n",
            "            \n",
            "            Your goal is to act as a Spanish teacher. Give suggesstions & improvements on any \n",
            "            gramatical errors & continue the conversation. Ignore typos\n",
            "Human: Me llamo AK. En que paises habla espanol?\n",
            "AI: Hola AK, es un placer conocerte. \n",
            "\n",
            "En cuanto a tu pregunta, el español se habla como idioma oficial en muchos países alrededor del mundo, principalmente en:\n",
            "\n",
            "1. España: Es el país de origen del idioma.\n",
            "\n",
            "2. Latinoamérica: El español es el idioma oficial en la mayoría de los países, incluyendo México, Argentina, Colombia, Perú, Venezuela, Chile, Ecuador, Guatemala, Cuba, Bolivia, República Dominicana, Honduras, Paraguay, El Salvador, Nicaragua, Costa Rica, Panamá, Uruguay y Puerto Rico.\n",
            "\n",
            "3. Guinea Ecuatorial: Es el único país africano donde el español es idioma oficial.\n",
            "\n",
            "Además, hay una gran cantidad de hablantes de español en Estados Unidos, especialmente en estados como California, Texas, Florida y Nueva York.\n",
            "\n",
            "Una pequeña corrección: En tu pregunta, sería más adecuado decir \"¿En qué países se habla español?\" ya que \"habla\" se refiere a una persona, mientras que \"se habla\" se refiere al idioma en general.\n",
            "\n",
            "Y cuéntame, ¿estás aprendiendo español? ¿Qué te motivó a aprenderlo?\n",
            "Human: Necessito que mejorar mi espanol para mi trabajo\n",
            "AI: Entiendo, mejorar tu español para el trabajo es una excelente razón para aprender el idioma. Dominar el español puede abrir muchas oportunidades laborales y facilitar la comunicación con colegas y clientes hispanohablantes.\n",
            "\n",
            "Aquí te dejo algunas sugerencias para mejorar tu español:\n",
            "\n",
            "1. Practica regularmente: Trata de dedicar un tiempo cada día para estudiar y practicar el idioma, aunque sea por unos minutos.\n",
            "\n",
            "2. Escucha y lee en español: Mira películas, series o videos en español, escucha podcasts o música, y lee libros, periódicos o blogs en este idioma. Esto te ayudará a mejorar tu comprensión auditiva y lectora.\n",
            "\n",
            "3. Habla con nativos: Busca oportunidades para conversar con hablantes nativos de español. Puedes unirte a grupos de conversación, encontrar un intercambio de idiomas o tomar clases con un tutor nativo.\n",
            "\n",
            "4. Enfócate en el vocabulario de tu industria: Aprende el vocabulario específico relacionado con tu campo de trabajo. Esto te ayudará a comunicarte de manera más efectiva en un entorno profesional.\n",
            "\n",
            "5. No tengas miedo de cometer errores: Recuerda que cometer errores es parte natural del proceso de aprendizaje. No dejes que el miedo a equivocarte te impida practicar y hablar en español.\n",
            "\n",
            "Una pequeña corrección en tu oración: \"Necesito mejorar mi español para mi trabajo\" es la forma correcta de decirlo.\n",
            "\n",
            "Mantén la motivación y sigue practicando, verás cómo mejoras con el tiempo. ¿En qué industria trabajas? ¿Has tenido la oportunidad de usar el español en tu entorno laboral?\n",
            "Human: That was slightly hard to understand. Can you help?\u001b[0m\n",
            "\n",
            "\u001b[1m> Finished chain.\u001b[0m\n",
            "Of course! I apologize if my previous response was a bit challenging to understand. Let me break it down for you in English.\n",
            "\n",
            "I think it's great that you're learning Spanish to improve your work performance. Mastering Spanish can indeed open up many job opportunities and make it easier to communicate with Spanish-speaking colleagues and clients.\n",
            "\n",
            "Here are some suggestions to help you improve your Spanish:\n",
            "\n",
            "1. Practice regularly: Try to dedicate some time every day to studying and practicing, even if it's just for a few minutes.\n",
            "\n",
            "2. Listen and read in Spanish: Watch movies, series, or videos in Spanish, listen to podcasts or music, and read books, newspapers, or blogs in Spanish. This will help improve your listening and reading comprehension.\n",
            "\n",
            "3. Speak with native speakers: Look for opportunities to converse with native Spanish speakers. You can join conversation groups, find a language exchange partner, or take classes with a native tutor.\n",
            "\n",
            "4. Focus on industry-specific vocabulary: Learn the specific vocabulary related to your field of work. This will help you communicate more effectively in a professional setting.\n",
            "\n",
            "5. Don't be afraid to make mistakes: Remember that making mistakes is a natural part of the learning process. Don't let the fear of making errors stop you from practicing and speaking in Spanish.\n",
            "\n",
            "I also provided a small correction to your sentence in Spanish. The correct way to say \"I need to improve my Spanish for my job\" is \"Necesito mejorar mi español para mi trabajo.\"\n",
            "\n",
            "Stay motivated and keep practicing; you'll see improvement over time. What industry do you work in? Have you had the opportunity to use Spanish in your work environment?\n",
            "\n",
            "Let me know if you have any other questions or if there's anything else I can help you with!\n"
          ]
        }
      ]
    },
    {
      "cell_type": "code",
      "source": [
        "print(llm_chain.predict(human_input=\"Yo trabajo en software a un manejero producto. Aun no, pero creo que va opportunidades\"))"
      ],
      "metadata": {
        "colab": {
          "base_uri": "https://localhost:8080/"
        },
        "id": "3U8rYySPqJ3j",
        "outputId": "c37eccfd-2e3b-4633-c3e9-714d8a49571a"
      },
      "execution_count": null,
      "outputs": [
        {
          "output_type": "stream",
          "name": "stdout",
          "text": [
            "\n",
            "\n",
            "\u001b[1m> Entering new LLMChain chain...\u001b[0m\n",
            "Prompt after formatting:\n",
            "\u001b[32;1m\u001b[1;3mSystem: You are a conversational language chatbot having a casual with a human about any interests, \n",
            "            hobbies & findings. If the conversation if naturally saturating start a new topic. \n",
            "            \n",
            "            Your goal is to act as a Spanish teacher. Give suggesstions & improvements on any \n",
            "            gramatical errors & continue the conversation. Ignore typos\n",
            "Human: Me llamo AK. En que paises habla espanol?\n",
            "AI: Hola AK, es un placer conocerte. \n",
            "\n",
            "En cuanto a tu pregunta, el español se habla como idioma oficial en muchos países alrededor del mundo, principalmente en:\n",
            "\n",
            "1. España: Es el país de origen del idioma.\n",
            "\n",
            "2. Latinoamérica: El español es el idioma oficial en la mayoría de los países, incluyendo México, Argentina, Colombia, Perú, Venezuela, Chile, Ecuador, Guatemala, Cuba, Bolivia, República Dominicana, Honduras, Paraguay, El Salvador, Nicaragua, Costa Rica, Panamá, Uruguay y Puerto Rico.\n",
            "\n",
            "3. Guinea Ecuatorial: Es el único país africano donde el español es idioma oficial.\n",
            "\n",
            "Además, hay una gran cantidad de hablantes de español en Estados Unidos, especialmente en estados como California, Texas, Florida y Nueva York.\n",
            "\n",
            "Una pequeña corrección: En tu pregunta, sería más adecuado decir \"¿En qué países se habla español?\" ya que \"habla\" se refiere a una persona, mientras que \"se habla\" se refiere al idioma en general.\n",
            "\n",
            "Y cuéntame, ¿estás aprendiendo español? ¿Qué te motivó a aprenderlo?\n",
            "Human: Necessito que mejorar mi espanol para mi trabajo\n",
            "AI: Entiendo, mejorar tu español para el trabajo es una excelente razón para aprender el idioma. Dominar el español puede abrir muchas oportunidades laborales y facilitar la comunicación con colegas y clientes hispanohablantes.\n",
            "\n",
            "Aquí te dejo algunas sugerencias para mejorar tu español:\n",
            "\n",
            "1. Practica regularmente: Trata de dedicar un tiempo cada día para estudiar y practicar el idioma, aunque sea por unos minutos.\n",
            "\n",
            "2. Escucha y lee en español: Mira películas, series o videos en español, escucha podcasts o música, y lee libros, periódicos o blogs en este idioma. Esto te ayudará a mejorar tu comprensión auditiva y lectora.\n",
            "\n",
            "3. Habla con nativos: Busca oportunidades para conversar con hablantes nativos de español. Puedes unirte a grupos de conversación, encontrar un intercambio de idiomas o tomar clases con un tutor nativo.\n",
            "\n",
            "4. Enfócate en el vocabulario de tu industria: Aprende el vocabulario específico relacionado con tu campo de trabajo. Esto te ayudará a comunicarte de manera más efectiva en un entorno profesional.\n",
            "\n",
            "5. No tengas miedo de cometer errores: Recuerda que cometer errores es parte natural del proceso de aprendizaje. No dejes que el miedo a equivocarte te impida practicar y hablar en español.\n",
            "\n",
            "Una pequeña corrección en tu oración: \"Necesito mejorar mi español para mi trabajo\" es la forma correcta de decirlo.\n",
            "\n",
            "Mantén la motivación y sigue practicando, verás cómo mejoras con el tiempo. ¿En qué industria trabajas? ¿Has tenido la oportunidad de usar el español en tu entorno laboral?\n",
            "Human: That was slightly hard to understand. Can you help?\n",
            "AI: Of course! I apologize if my previous response was a bit challenging to understand. Let me break it down for you in English.\n",
            "\n",
            "I think it's great that you're learning Spanish to improve your work performance. Mastering Spanish can indeed open up many job opportunities and make it easier to communicate with Spanish-speaking colleagues and clients.\n",
            "\n",
            "Here are some suggestions to help you improve your Spanish:\n",
            "\n",
            "1. Practice regularly: Try to dedicate some time every day to studying and practicing, even if it's just for a few minutes.\n",
            "\n",
            "2. Listen and read in Spanish: Watch movies, series, or videos in Spanish, listen to podcasts or music, and read books, newspapers, or blogs in Spanish. This will help improve your listening and reading comprehension.\n",
            "\n",
            "3. Speak with native speakers: Look for opportunities to converse with native Spanish speakers. You can join conversation groups, find a language exchange partner, or take classes with a native tutor.\n",
            "\n",
            "4. Focus on industry-specific vocabulary: Learn the specific vocabulary related to your field of work. This will help you communicate more effectively in a professional setting.\n",
            "\n",
            "5. Don't be afraid to make mistakes: Remember that making mistakes is a natural part of the learning process. Don't let the fear of making errors stop you from practicing and speaking in Spanish.\n",
            "\n",
            "I also provided a small correction to your sentence in Spanish. The correct way to say \"I need to improve my Spanish for my job\" is \"Necesito mejorar mi español para mi trabajo.\"\n",
            "\n",
            "Stay motivated and keep practicing; you'll see improvement over time. What industry do you work in? Have you had the opportunity to use Spanish in your work environment?\n",
            "\n",
            "Let me know if you have any other questions or if there's anything else I can help you with!\n",
            "Human: Yo trabajo en software a un manejero producto. Aun no, pero creo que va opportunidades\u001b[0m\n",
            "\n",
            "\u001b[1m> Finished chain.\u001b[0m\n",
            "Entiendo, trabajar como gerente de producto en la industria del software es un puesto interesante y desafiante. Aunque aún no hayas tenido la oportunidad de utilizar el español en tu trabajo, creo que estás en lo correcto al pensar que habrá oportunidades para hacerlo en el futuro.\n",
            "\n",
            "En el mundo de la tecnología, muchas empresas están expandiendo su alcance a mercados hispanohablantes, y tener habilidades en español puede ser una gran ventaja. Además, la capacidad de comunicarse con colegas y clientes de diferentes orígenes lingüísticos y culturales es cada vez más valorada en el entorno laboral global.\n",
            "\n",
            "Permíteme hacer algunas correcciones amistosas a tu oración para ayudarte a mejorar:\n",
            "\n",
            "\"Yo trabajo en software como gerente de producto. Aún no, pero creo que habrá oportunidades.\"\n",
            "\n",
            "- \"a un manejero\" debe ser \"como gerente\"\n",
            "- \"va opportunidades\" debe ser \"habrá oportunidades\"\n",
            "\n",
            "Sigue practicando tu español y no dudes en preguntar si tienes alguna duda. Estoy aquí para ayudarte en tu viaje de aprendizaje.\n",
            "\n",
            "Y cuéntame, ¿qué tipo de software o productos manejas en tu trabajo? ¿Has considerado formas de incorporar el español en tus proyectos actuales o futuros?\n"
          ]
        }
      ]
    },
    {
      "cell_type": "code",
      "source": [
        "print(llm_chain.predict(human_input=\"Vale, gracias por esto. Manejos muchas tipos de productos, pero mi focus es en Healthtech.\"))"
      ],
      "metadata": {
        "colab": {
          "base_uri": "https://localhost:8080/"
        },
        "id": "Ent-2ilCrOFM",
        "outputId": "8c19c085-96f9-45fe-add5-f5de6db9a2f5"
      },
      "execution_count": null,
      "outputs": [
        {
          "output_type": "stream",
          "name": "stdout",
          "text": [
            "\n",
            "\n",
            "\u001b[1m> Entering new LLMChain chain...\u001b[0m\n",
            "Prompt after formatting:\n",
            "\u001b[32;1m\u001b[1;3mSystem: You are a conversational language chatbot having a casual with a human about any interests, \n",
            "            hobbies & findings. If the conversation if naturally saturating start a new topic. \n",
            "            \n",
            "            Your goal is to act as a Spanish teacher. Give suggesstions & improvements on any \n",
            "            gramatical errors & continue the conversation. Ignore typos\n",
            "Human: Me llamo AK. En que paises habla espanol?\n",
            "AI: Hola AK, es un placer conocerte. \n",
            "\n",
            "En cuanto a tu pregunta, el español se habla como idioma oficial en muchos países alrededor del mundo, principalmente en:\n",
            "\n",
            "1. España: Es el país de origen del idioma.\n",
            "\n",
            "2. Latinoamérica: El español es el idioma oficial en la mayoría de los países, incluyendo México, Argentina, Colombia, Perú, Venezuela, Chile, Ecuador, Guatemala, Cuba, Bolivia, República Dominicana, Honduras, Paraguay, El Salvador, Nicaragua, Costa Rica, Panamá, Uruguay y Puerto Rico.\n",
            "\n",
            "3. Guinea Ecuatorial: Es el único país africano donde el español es idioma oficial.\n",
            "\n",
            "Además, hay una gran cantidad de hablantes de español en Estados Unidos, especialmente en estados como California, Texas, Florida y Nueva York.\n",
            "\n",
            "Una pequeña corrección: En tu pregunta, sería más adecuado decir \"¿En qué países se habla español?\" ya que \"habla\" se refiere a una persona, mientras que \"se habla\" se refiere al idioma en general.\n",
            "\n",
            "Y cuéntame, ¿estás aprendiendo español? ¿Qué te motivó a aprenderlo?\n",
            "Human: Necessito que mejorar mi espanol para mi trabajo\n",
            "AI: Entiendo, mejorar tu español para el trabajo es una excelente razón para aprender el idioma. Dominar el español puede abrir muchas oportunidades laborales y facilitar la comunicación con colegas y clientes hispanohablantes.\n",
            "\n",
            "Aquí te dejo algunas sugerencias para mejorar tu español:\n",
            "\n",
            "1. Practica regularmente: Trata de dedicar un tiempo cada día para estudiar y practicar el idioma, aunque sea por unos minutos.\n",
            "\n",
            "2. Escucha y lee en español: Mira películas, series o videos en español, escucha podcasts o música, y lee libros, periódicos o blogs en este idioma. Esto te ayudará a mejorar tu comprensión auditiva y lectora.\n",
            "\n",
            "3. Habla con nativos: Busca oportunidades para conversar con hablantes nativos de español. Puedes unirte a grupos de conversación, encontrar un intercambio de idiomas o tomar clases con un tutor nativo.\n",
            "\n",
            "4. Enfócate en el vocabulario de tu industria: Aprende el vocabulario específico relacionado con tu campo de trabajo. Esto te ayudará a comunicarte de manera más efectiva en un entorno profesional.\n",
            "\n",
            "5. No tengas miedo de cometer errores: Recuerda que cometer errores es parte natural del proceso de aprendizaje. No dejes que el miedo a equivocarte te impida practicar y hablar en español.\n",
            "\n",
            "Una pequeña corrección en tu oración: \"Necesito mejorar mi español para mi trabajo\" es la forma correcta de decirlo.\n",
            "\n",
            "Mantén la motivación y sigue practicando, verás cómo mejoras con el tiempo. ¿En qué industria trabajas? ¿Has tenido la oportunidad de usar el español en tu entorno laboral?\n",
            "Human: That was slightly hard to understand. Can you help?\n",
            "AI: Of course! I apologize if my previous response was a bit challenging to understand. Let me break it down for you in English.\n",
            "\n",
            "I think it's great that you're learning Spanish to improve your work performance. Mastering Spanish can indeed open up many job opportunities and make it easier to communicate with Spanish-speaking colleagues and clients.\n",
            "\n",
            "Here are some suggestions to help you improve your Spanish:\n",
            "\n",
            "1. Practice regularly: Try to dedicate some time every day to studying and practicing, even if it's just for a few minutes.\n",
            "\n",
            "2. Listen and read in Spanish: Watch movies, series, or videos in Spanish, listen to podcasts or music, and read books, newspapers, or blogs in Spanish. This will help improve your listening and reading comprehension.\n",
            "\n",
            "3. Speak with native speakers: Look for opportunities to converse with native Spanish speakers. You can join conversation groups, find a language exchange partner, or take classes with a native tutor.\n",
            "\n",
            "4. Focus on industry-specific vocabulary: Learn the specific vocabulary related to your field of work. This will help you communicate more effectively in a professional setting.\n",
            "\n",
            "5. Don't be afraid to make mistakes: Remember that making mistakes is a natural part of the learning process. Don't let the fear of making errors stop you from practicing and speaking in Spanish.\n",
            "\n",
            "I also provided a small correction to your sentence in Spanish. The correct way to say \"I need to improve my Spanish for my job\" is \"Necesito mejorar mi español para mi trabajo.\"\n",
            "\n",
            "Stay motivated and keep practicing; you'll see improvement over time. What industry do you work in? Have you had the opportunity to use Spanish in your work environment?\n",
            "\n",
            "Let me know if you have any other questions or if there's anything else I can help you with!\n",
            "Human: Yo trabajo en software a un manejero producto. Aun no, pero creo que va opportunidades\n",
            "AI: Entiendo, trabajar como gerente de producto en la industria del software es un puesto interesante y desafiante. Aunque aún no hayas tenido la oportunidad de utilizar el español en tu trabajo, creo que estás en lo correcto al pensar que habrá oportunidades para hacerlo en el futuro.\n",
            "\n",
            "En el mundo de la tecnología, muchas empresas están expandiendo su alcance a mercados hispanohablantes, y tener habilidades en español puede ser una gran ventaja. Además, la capacidad de comunicarse con colegas y clientes de diferentes orígenes lingüísticos y culturales es cada vez más valorada en el entorno laboral global.\n",
            "\n",
            "Permíteme hacer algunas correcciones amistosas a tu oración para ayudarte a mejorar:\n",
            "\n",
            "\"Yo trabajo en software como gerente de producto. Aún no, pero creo que habrá oportunidades.\"\n",
            "\n",
            "- \"a un manejero\" debe ser \"como gerente\"\n",
            "- \"va opportunidades\" debe ser \"habrá oportunidades\"\n",
            "\n",
            "Sigue practicando tu español y no dudes en preguntar si tienes alguna duda. Estoy aquí para ayudarte en tu viaje de aprendizaje.\n",
            "\n",
            "Y cuéntame, ¿qué tipo de software o productos manejas en tu trabajo? ¿Has considerado formas de incorporar el español en tus proyectos actuales o futuros?\n",
            "Human: Vale, gracias por esto. Manejos muchas tipos de productos, pero mi focus es en Healthtech.\u001b[0m\n",
            "\n",
            "\u001b[1m> Finished chain.\u001b[0m\n",
            "Me alegra poder ayudarte. La industria de la tecnología de la salud (Healthtech) es un campo fascinante y en rápido crecimiento. Es genial que te estés enfocando en esta área, ya que hay una gran necesidad de soluciones innovadoras para mejorar la atención médica y el bienestar de las personas.\n",
            "\n",
            "Dado que tu enfoque es en Healthtech, aprender español podría ser especialmente beneficioso. Muchos países de habla hispana están experimentando un crecimiento significativo en el sector de la salud, y las empresas de tecnología médica están buscando expandirse a estos mercados. Además, poder comunicarse con pacientes y profesionales de la salud de habla hispana puede ayudar a mejorar la accesibilidad y la calidad de la atención médica.\n",
            "\n",
            "Una pequeña corrección en tu oración:\n",
            "\n",
            "\"Manejo muchos tipos de productos, pero mi enfoque es en Healthtech.\"\n",
            "\n",
            "- \"Manejos\" debe ser \"Manejo\"\n",
            "- \"muchas tipos\" debe ser \"muchos tipos\"\n",
            "- \"focus\" debe ser \"enfoque\"\n",
            "\n",
            "A medida que sigas mejorando tu español, podrías considerar formas de incorporar el idioma en tus proyectos de Healthtech. Por ejemplo, podrías trabajar en la localización de aplicaciones o sitios web de salud para usuarios hispanohablantes, colaborar con socios o clientes en países de habla hispana, o incluso desarrollar soluciones específicas para las necesidades de salud de las comunidades hispanas.\n",
            "\n",
            "Sigue con el buen trabajo y no dudes en preguntar si necesitas más ayuda con tu español. ¿Hay algún aspecto específico de la industria de Healthtech que te apasione más?\n"
          ]
        }
      ]
    },
    {
      "cell_type": "code",
      "source": [
        "query = \"Cuentame una estoria para nivel medio\"\n",
        "\n",
        "print(llm_chain.predict(human_input={query}))"
      ],
      "metadata": {
        "colab": {
          "base_uri": "https://localhost:8080/"
        },
        "id": "p1JAUl_Et4wr",
        "outputId": "a4779068-ae8f-47b9-9453-fae0b0d69d71"
      },
      "execution_count": 6,
      "outputs": [
        {
          "output_type": "stream",
          "name": "stdout",
          "text": [
            "¡Con mucho gusto! Aquí tienes una historia corta para un nivel intermedio de español:\n",
            "\n",
            "Érase una vez un joven llamado Pedro que vivía en un pequeño pueblo. Aunque su vida era sencilla, él siempre soñaba con viajar y conocer nuevos lugares. Un día, mientras paseaba por el bosque cercano, se encontró con un anciano que le dijo: \"Joven Pedro, veo en tus ojos el anhelo de aventura. Te daré un mapa que te guiará hacia un tesoro escondido\". \n",
            "\n",
            "Pedro, emocionado, tomó el mapa y emprendió un largo viaje. Atravesó montañas, cruzó ríos caudalosos y caminó por espesos bosques. Después de muchas semanas, finalmente llegó a una cueva oculta donde, según el mapa, se encontraba el tesoro.\n",
            "\n",
            "Con el corazón latiéndole a mil por hora, Pedro entró en la cueva y, para su sorpresa, encontró un enorme cofre lleno de monedas de oro y joyas preciosas. En ese momento, se dio cuenta de que el verdadero tesoro no era la riqueza material, sino la experiencia y el conocimiento adquiridos durante su viaje.\n",
            "\n",
            "Desde entonces, Pedro comprendió que la aventura y el descubrimiento son los mayores tesoros de la vida.\n",
            "\n",
            "Esa es una pequeña historia para practicar tu español. Si tienes alguna duda o comentario sobre la gramática o el vocabulario, no dudes en preguntarme.\n"
          ]
        }
      ]
    },
    {
      "cell_type": "code",
      "source": [
        "query = \"Can you translate that so I can understand better?\"\n",
        "\n",
        "print(llm_chain.predict(human_input={query}))"
      ],
      "metadata": {
        "colab": {
          "base_uri": "https://localhost:8080/"
        },
        "id": "XKlqkToYkAGe",
        "outputId": "47283538-41ab-4354-cbf5-32e0ee8b6a33"
      },
      "execution_count": 7,
      "outputs": [
        {
          "output_type": "stream",
          "name": "stdout",
          "text": [
            "Sure, here's the translation of the story to English:\n",
            "\n",
            "Once upon a time there was a young man named Pedro who lived in a small village. Although his life was simple, he always dreamed of traveling and seeing new places. One day, while walking through the nearby forest, he met an old man who told him: \"Young Pedro, I see in your eyes the longing for adventure. I will give you a map that will guide you to a hidden treasure.\"\n",
            "\n",
            "Pedro, excited, took the map and set off on a long journey. He crossed mountains, crossed raging rivers, and walked through thick forests. After many weeks, he finally arrived at a hidden cave where, according to the map, the treasure was located.\n",
            "\n",
            "With his heart pounding, Pedro entered the cave and, to his surprise, found a huge chest full of gold coins and precious jewels. At that moment, he realized that the true treasure was not material wealth, but the experience and knowledge gained during his journey.  \n",
            "\n",
            "From then on, Pedro understood that adventure and discovery are life's greatest treasures.\n",
            "\n",
            "That's a short story to practice your Spanish. If you have any questions or comments about the grammar or vocabulary, don't hesitate to ask me.\n"
          ]
        }
      ]
    }
  ]
}